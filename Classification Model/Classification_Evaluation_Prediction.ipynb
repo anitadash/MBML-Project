{
  "cells": [
    {
      "cell_type": "code",
      "execution_count": 1,
      "metadata": {
        "id": "f61GiW2WRGsH"
      },
      "outputs": [],
      "source": [
        "# importing the required libraries\n",
        "import numpy as np\n",
        "from keras.datasets import mnist\n",
        "from keras.models import load_model\n",
        "from keras.utils import to_categorical\n",
        "import keras \n",
        "import matplotlib.pyplot as plt"
      ]
    },
    {
      "cell_type": "code",
      "execution_count": 2,
      "metadata": {
        "id": "XVYeh8h1RGsP"
      },
      "outputs": [],
      "source": [
        "def load_dataset(name):\n",
        "    # load dataset\n",
        "    (trainX, trainY), (testX, testY) = name.load_data()\n",
        "    # shape of dataset\n",
        "    train_shape, test_shape = [trainX.shape, trainY.shape], [testX.shape, testY.shape]\n",
        "    num_classes = len(np.unique(trainY))\n",
        "    # one hot encode target values\n",
        "    trainY = to_categorical(trainY)\n",
        "    testY = to_categorical(testY)\n",
        "    return trainX, trainY, testX, testY, train_shape, test_shape"
      ]
    },
    {
      "cell_type": "code",
      "execution_count": 3,
      "metadata": {
        "id": "7lV8CAbcRGsR"
      },
      "outputs": [],
      "source": [
        "# processing the data\n",
        "def data_process(trainX, testX):\n",
        "    # convert from integers to floats\n",
        "    trainX = trainX.astype('float32')\n",
        "    testX = testX.astype('float32')\n",
        "    # normalize to range 0-1\n",
        "    trainX = trainX / 255.0\n",
        "    testX = testX / 255.0\n",
        "    trainX = trainX.reshape((len(trainX), np.prod(trainX.shape[1:])))\n",
        "    testX = testX.reshape((len(testX), np.prod(testX.shape[1:])))\n",
        "    # return normalized images\n",
        "    return trainX, testX"
      ]
    },
    {
      "cell_type": "code",
      "execution_count": 4,
      "metadata": {},
      "outputs": [],
      "source": [
        "# function that takes trainX, testX as input and outputs encoded trainX, testX\n",
        "def encode(trainX, testX):\n",
        "    trainX, testX = data_process(trainX, testX)\n",
        "    # load encoder model\n",
        "    encoder = load_model('../Autoencoders Model/encoder_model.keras')\n",
        "    # encode the data\n",
        "    trainX = encoder.predict(trainX)\n",
        "    testX = encoder.predict(testX)\n",
        "    return trainX, testX\n"
      ]
    },
    {
      "cell_type": "code",
      "execution_count": 5,
      "metadata": {
        "id": "7lYVq7Q7RGsT"
      },
      "outputs": [],
      "source": [
        "# evaluating the model for mnist dataset\n",
        "def run_test_harness():\n",
        "    # load dataset\n",
        "    trainX, trainY, testX, testY, train_shape, test_shape = load_dataset(mnist)\n",
        "    # encoder the data\n",
        "    encoded_imgs_train, encoded_imgs_test = encode(trainX, testX)\n",
        "    # load model\n",
        "    model = load_model('cnn_model.keras')\n",
        "    # evaluate model on test dataset\n",
        "    _, acc = model.evaluate(encoded_imgs_test, testY, verbose=0)\n",
        "    print('> Accuracy: %.3f' % (acc * 100.0))\n",
        "    return testX, testY"
      ]
    },
    {
      "cell_type": "code",
      "execution_count": 6,
      "metadata": {
        "colab": {
          "base_uri": "https://localhost:8080/"
        },
        "id": "COsXpwcDRGsV",
        "outputId": "17fd1e93-60e2-427e-97a3-62725dcb227c"
      },
      "outputs": [
        {
          "name": "stdout",
          "output_type": "stream",
          "text": [
            "1875/1875 [==============================] - 3s 1ms/step\n",
            "313/313 [==============================] - 1s 2ms/step\n",
            "> Accuracy: 97.490\n"
          ]
        }
      ],
      "source": [
        "testX, testY = run_test_harness()"
      ]
    },
    {
      "cell_type": "code",
      "execution_count": 7,
      "metadata": {
        "id": "cHrOoM7jRGsW"
      },
      "outputs": [],
      "source": [
        "# names of the classes\n",
        "names = ['0', '1', '2', '3', '4', '5', '6', '7', '8', '9']"
      ]
    },
    {
      "cell_type": "code",
      "execution_count": 8,
      "metadata": {},
      "outputs": [],
      "source": [
        "def prediction(images):\n",
        "    # load encoder model\n",
        "    model1 = load_model('../Autoencoders Model/encoder_model.keras')\n",
        "    images, _ = data_process(images, images)\n",
        "    # encode the images\n",
        "    encoded_imgs = model1.predict(images)\n",
        "    # load the model\n",
        "    model2 = load_model('cnn_model.keras')\n",
        "    result = model2.predict(encoded_imgs)\n",
        "    # predict the classes\n",
        "    result_classes = result.argmax(axis=-1)\n",
        "    # return the predicted classes\n",
        "    return result_classes\n"
      ]
    },
    {
      "cell_type": "code",
      "execution_count": 9,
      "metadata": {
        "id": "3j7u9sT8RGsX"
      },
      "outputs": [],
      "source": [
        "# plot 10 images from the test set and their predicted labels\n",
        "np.random.seed(42)\n",
        "def display_prediction(testX, testY):\n",
        "    images = []\n",
        "    labels = []\n",
        "    for i in range(10):\n",
        "        # select a random image\n",
        "        index = np.random.randint(0, 1000)\n",
        "        images.append(testX[index])\n",
        "        labels.append(testY[index])\n",
        "\n",
        "    images = np.array(images)\n",
        "    labels = np.array(labels)\n",
        "    # predict the classes\n",
        "    result_classes = prediction(images)\n",
        "    # plot the images and their predicted labels\n",
        "    for i in range(10):\n",
        "        plt.subplot(2, 5, i+1)\n",
        "        plt.imshow(images[i].reshape(28, 28), cmap='gray')\n",
        "        plt.title(names[result_classes[i]])\n",
        "        plt.xticks([])\n",
        "        plt.yticks([])\n",
        "    plt.show()"
      ]
    },
    {
      "cell_type": "code",
      "execution_count": 10,
      "metadata": {
        "colab": {
          "base_uri": "https://localhost:8080/",
          "height": 364
        },
        "id": "LOnQS5xGRzzE",
        "outputId": "ef2643e3-3a71-4335-d820-2faa30e8859e"
      },
      "outputs": [
        {
          "name": "stdout",
          "output_type": "stream",
          "text": [
            "1/1 [==============================] - 0s 43ms/step\n",
            "1/1 [==============================] - 0s 33ms/step\n"
          ]
        },
        {
          "data": {
            "image/png": "[encoded data removed]",
            "text/plain": [
              "<Figure size 640x480 with 10 Axes>"
            ]
          },
          "metadata": {},
          "output_type": "display_data"
        }
      ],
      "source": [
        "display_prediction(testX, testY)"
      ]
    }
  ],
  "metadata": {
    "colab": {
      "provenance": []
    },
    "kernelspec": {
      "display_name": "Python 3",
      "language": "python",
      "name": "python3"
    },
    "language_info": {
      "codemirror_mode": {
        "name": "ipython",
        "version": 3
      },
      "file_extension": ".py",
      "mimetype": "text/x-python",
      "name": "python",
      "nbconvert_exporter": "python",
      "pygments_lexer": "ipython3",
      "version": "3.9.5"
    }
  },
  "nbformat": 4,
  "nbformat_minor": 0
}
