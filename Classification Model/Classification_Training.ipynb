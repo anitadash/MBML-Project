{
  "cells": [
    {
      "cell_type": "code",
      "execution_count": 1,
      "metadata": {
        "id": "rEECY3JteeuD"
      },
      "outputs": [],
      "source": [
        "# CNN classification on CIFAR-10 dataset\n",
        "# loading libraries\n",
        "import sys\n",
        "from matplotlib import pyplot\n",
        "from keras.datasets import cifar10\n",
        "from keras.utils import to_categorical\n",
        "from keras.models import Sequential\n",
        "from keras.layers import Conv2D\n",
        "from keras.layers import MaxPooling2D\n",
        "from keras.layers import Dense\n",
        "from keras.layers import Flatten\n",
        "from keras.optimizers import SGD\n",
        "from keras.preprocessing.image import ImageDataGenerator\n",
        "from keras.layers import Dropout\n",
        "from keras.layers import BatchNormalization\n",
        "import numpy as np"
      ]
    },
    {
      "cell_type": "code",
      "execution_count": 2,
      "metadata": {
        "colab": {
          "base_uri": "https://localhost:8080/"
        },
        "id": "agCasE29sK75",
        "outputId": "cee37d87-6897-44fd-f8a8-b0135c24ca62"
      },
      "outputs": [
        {
          "output_type": "stream",
          "name": "stdout",
          "text": [
            "Found GPU at: /device:GPU:0\n"
          ]
        }
      ],
      "source": [
        "# checking if the device has GPU\n",
        "import tensorflow as tf\n",
        "device_name = tf.test.gpu_device_name()\n",
        "if len(device_name) > 0:\n",
        "    print(\"Found GPU at: {}\".format(device_name))\n",
        "else:\n",
        "    device_name = \"/device:CPU:0\"\n",
        "    print(\"No GPU, using {}.\".format(device_name))"
      ]
    },
    {
      "cell_type": "code",
      "execution_count": 3,
      "metadata": {
        "id": "PZsm3QuBeeub"
      },
      "outputs": [],
      "source": [
        "# if dataset is being loaded from keras\n",
        "# make sure name is the same name as the dataset in keras\n",
        "def load_dataset(name):\n",
        "    # load dataset\n",
        "    (trainX, trainY), (testX, testY) = name.load_data()\n",
        "    # shape of dataset\n",
        "    train_shape, test_shape = [trainX.shape, trainY.shape], [testX.shape, testY.shape]\n",
        "    num_classes = len(np.unique(trainY))\n",
        "    # one hot encode target values\n",
        "    trainY = to_categorical(trainY)\n",
        "    testY = to_categorical(testY)\n",
        "    return trainX, trainY, testX, testY, train_shape, test_shape"
      ]
    },
    {
      "cell_type": "code",
      "execution_count": 4,
      "metadata": {
        "id": "ArDLZc-isK79"
      },
      "outputs": [],
      "source": [
        "# if personal dataset is being used\n",
        "# dataset is a dictionary with keys : train, test and values : data, labels\n",
        "def dataset_personal(dataset):\n",
        "    trainX, trainY, testX, testY = dataset['train']['data'], dataset['train']['labels'], dataset['test']['data'], dataset['test']['labels']\n",
        "    train_shape, test_shape = [trainX.shape, trainY.shape], [testX.shape, testY.shape]\n",
        "    # one hot encode target values\n",
        "    trainY = to_categorical(trainY)\n",
        "    testY = to_categorical(testY)\n",
        "    return trainX, trainY, testX, testY, train_shape, test_shape\n"
      ]
    },
    {
      "cell_type": "code",
      "execution_count": 5,
      "metadata": {
        "id": "vfLy8L2nsK79"
      },
      "outputs": [],
      "source": [
        "# function to split dataset into train and test\n",
        "def split_dataset(name, type):\n",
        "    if type == 'keras':\n",
        "        trainX, trainY, testX, testY, train_shape, test_shape = load_dataset(name)\n",
        "    elif type == 'personal':\n",
        "        trainX, trainY, testX, testY, train_shape, test_shape = dataset_personal(name)\n",
        "\n",
        "    return trainX, trainY, testX, testY, train_shape, test_shape\n"
      ]
    },
    {
      "cell_type": "code",
      "execution_count": 6,
      "metadata": {
        "id": "5vUvMuEzeeub"
      },
      "outputs": [],
      "source": [
        "# prepare pixel data for modeling\n",
        "def prep_pixels(train, test):\n",
        "    # convert from integers to floats\n",
        "    train_norm = train.astype('float32')\n",
        "    test_norm = test.astype('float32')\n",
        "    # normalize to range 0-1\n",
        "    train_norm = train_norm / 255.0\n",
        "    test_norm = test_norm / 255.0\n",
        "    # return normalized images\n",
        "    return train_norm, test_norm"
      ]
    },
    {
      "cell_type": "code",
      "execution_count": 13,
      "metadata": {
        "id": "nYHxg_w7eeuc"
      },
      "outputs": [],
      "source": [
        "# define model architecture\n",
        "def define_model(in_shape):\n",
        "  with tf.device(device_name):\n",
        "    model = Sequential()\n",
        "    model.add(Conv2D(32, (3, 3), activation='relu', kernel_initializer='he_uniform', padding='same', input_shape=(in_shape, in_shape, 3)))\n",
        "    model.add(Conv2D(32, (3, 3), activation='relu', kernel_initializer='he_uniform', padding='same'))\n",
        "    model.add(MaxPooling2D((2, 2)))\n",
        "    model.add(Dropout(0.2))\n",
        "    model.add(Conv2D(64, (3, 3), activation='relu', kernel_initializer='he_uniform', padding='same'))\n",
        "    model.add(Conv2D(64, (3, 3), activation='relu', kernel_initializer='he_uniform', padding='same'))\n",
        "    model.add(MaxPooling2D((2, 2)))\n",
        "    model.add(Dropout(0.2))\n",
        "    model.add(Conv2D(128, (3, 3), activation='relu', kernel_initializer='he_uniform', padding='same'))\n",
        "    model.add(Conv2D(128, (3, 3), activation='relu', kernel_initializer='he_uniform', padding='same'))\n",
        "    model.add(MaxPooling2D((2, 2)))\n",
        "    model.add(Dropout(0.2))\n",
        "    model.add(Flatten())\n",
        "    model.add(Dense(128, activation='relu', kernel_initializer='he_uniform'))\n",
        "    model.add(Dropout(0.2))\n",
        "    model.add(Dense(10, activation='softmax'))\n",
        "    # compile model\n",
        "    opt = SGD(learning_rate=0.001, momentum=0.9)\n",
        "    model.compile(optimizer=opt, loss='categorical_crossentropy', metrics=['accuracy'])\n",
        "    return model"
      ]
    },
    {
      "cell_type": "code",
      "execution_count": 8,
      "metadata": {
        "id": "bUa2y9J-eeud"
      },
      "outputs": [],
      "source": [
        "# plotting diagnostic learning curves\n",
        "def summarize_diagnostics(history):\n",
        "    # plot loss\n",
        "    pyplot.subplot(211)\n",
        "    pyplot.title('Cross Entropy Loss')\n",
        "    pyplot.plot(history.history['loss'], color='blue', label='train')\n",
        "    pyplot.plot(history.history['val_loss'], color='orange', label='test')\n",
        "    # plot accuracy\n",
        "    pyplot.subplot(212)\n",
        "    pyplot.title('Classification Accuracy')\n",
        "    pyplot.plot(history.history['accuracy'], color='blue', label='train')\n",
        "    pyplot.plot(history.history['val_accuracy'], color='orange', label='test')\n",
        "    pyplot.show()"
      ]
    },
    {
      "cell_type": "code",
      "execution_count": 12,
      "metadata": {
        "id": "DSCrtzPssK8C"
      },
      "outputs": [],
      "source": [
        "import matplotlib.pyplot as plt\n",
        "\n",
        "def diagnostic_plots(history):\n",
        "    # plot for loss\n",
        "    plt.subplot(211)\n",
        "    plt.title('Cross Entropy Loss')\n",
        "    plt.plot(history.history['loss'], color='red', label='train')\n",
        "    plt.plot(history.history['val_loss'], color='blue', label='test')\n",
        "    plt.legend()\n",
        "    # plot for accuracy\n",
        "    plt.subplot(212)\n",
        "    plt.title('Classification Accuracy')\n",
        "    plt.plot(history.history['accuracy'], color='red', label='train')\n",
        "    plt.plot(history.history['val_accuracy'], color='blue', label='test')\n",
        "    plt.legend()\n",
        "    plt.tight_layout()\n",
        "    plt.show()"
      ]
    },
    {
      "cell_type": "code",
      "execution_count": 18,
      "metadata": {
        "id": "dY7Q-6Gueeue"
      },
      "outputs": [],
      "source": [
        "from tqdm import tqdm\n",
        "from keras.callbacks import Callback\n",
        "class tqdm_cb(Callback):\n",
        "    def __init__(self, total):\n",
        "        super().__init__()\n",
        "        self.total = total\n",
        "        self.pbar = None\n",
        "\n",
        "    def on_train_begin(self, logs=None):\n",
        "        self.pbar = tqdm(total=self.total, desc='Training model')\n",
        "\n",
        "    def on_epoch_end(self, epoch, logs=None):\n",
        "        self.pbar.update(1)\n",
        "        self.pbar.set_postfix(loss=logs['loss'], accuracy=logs['accuracy'])\n",
        "\n",
        "    def on_train_end(self, logs=None):\n",
        "        self.pbar.close()\n",
        "\n",
        "def run_test_harness(dataset, type):\n",
        "    # load dataset\n",
        "    trainX, trainY, testX, testY, train_shape, _ = split_dataset(dataset, type)\n",
        "    # prepare pixel data\n",
        "    trainX, testX = prep_pixels(trainX, testX)\n",
        "    # define model\n",
        "    x = train_shape[0][1]\n",
        "    # define model\n",
        "    model = define_model(x)\n",
        "    history = model.fit(trainX, trainY, epochs=100, batch_size=64, validation_data=(testX, testY), verbose=0, callbacks=[tqdm_cb(100)])\n",
        "    # evaluate model\n",
        "    _, acc = model.evaluate(testX, testY, verbose=0)\n",
        "    print('> Accuracy: %.3f' % (acc * 100.0))\n",
        "    diagnostic_plots(history)\n",
        "    # save model , install hp5py\n",
        "    model.save('cnn_model.keras')"
      ]
    },
    {
      "cell_type": "code",
      "execution_count": 19,
      "metadata": {
        "id": "wFlVUmeKgl4N",
        "colab": {
          "base_uri": "https://localhost:8080/",
          "height": 522
        },
        "outputId": "8e02b50a-2ea5-40b0-887e-4c88052dc4e6"
      },
      "outputs": [
        {
          "output_type": "stream",
          "name": "stderr",
          "text": [
            "Training model: 100%|██████████| 100/100 [11:46<00:00,  7.06s/it, accuracy=0.913, loss=0.241]\n"
          ]
        },
        {
          "output_type": "stream",
          "name": "stdout",
          "text": [
            "> Accuracy: 82.830\n"
          ]
        },
        {
          "output_type": "display_data",
          "data": {
            "text/plain": [
              "<Figure size 640x480 with 2 Axes>"
            ],
            "image/png": "[encoded data removed]"
          },
          "metadata": {}
        }
      ],
      "source": [
        "run_test_harness(cifar10, 'keras')"
      ]
    }
  ],
  "metadata": {
    "accelerator": "GPU",
    "colab": {
      "gpuType": "T4",
      "provenance": []
    },
    "kernelspec": {
      "display_name": "Python 3",
      "name": "python3"
    },
    "language_info": {
      "codemirror_mode": {
        "name": "ipython",
        "version": 3
      },
      "file_extension": ".py",
      "mimetype": "text/x-python",
      "name": "python",
      "nbconvert_exporter": "python",
      "pygments_lexer": "ipython3",
      "version": "3.9.5"
    }
  },
  "nbformat": 4,
  "nbformat_minor": 0
}